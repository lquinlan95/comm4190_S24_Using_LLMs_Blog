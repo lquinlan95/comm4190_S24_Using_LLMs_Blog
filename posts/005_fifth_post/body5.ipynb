{
 "cells": [
  {
   "cell_type": "raw",
   "id": "ceb26b6d-d77d-4a43-8a72-f9758596005e",
   "metadata": {},
   "source": [
    "---\n",
    "title: \"Storybook Struggles (Part IV)\"\n",
    "description: \"I think I broke ChatGPT\"\n",
    "author: \"Leesa\"\n",
    "date: \"2/20/2024\"\n",
    "categories:\n",
    "  - LLMs\n",
    "  - prompting\n",
    "  - text generation\n",
    "  - error\n",
    "  - jail breaking\n",
    "---"
   ]
  },
  {
   "cell_type": "markdown",
   "id": "b58618eb-dd92-483b-a802-cf2083e61d6d",
   "metadata": {
    "slideshow": {
     "slide_type": "slide"
    }
   },
   "source": [
    "## Storybook Struggles (Part IV)\n",
    "\n",
    "Welcome to the final part of our Valentine's Day series!\n",
    "\n",
    "I actually intended for part 3 to be the final part of this series but I made an interesting discovery entirely unintentionally that I thought would be interesting to share."
   ]
  },
  {
   "cell_type": "markdown",
   "id": "4fd38427-704e-4309-96e9-b7ed03c25820",
   "metadata": {},
   "source": [
    "### A simple question\n",
    "\n",
    "After Part 3, ChatGPT had written us a beautiful story about how to face betrayal and darkness - namely, throwing yourself into the ocean:\n",
    "\n",
    "*In a realm where endless night did reign, \\\n",
    "Evan walked, his heart heavy with pain. \\\n",
    "Betrayed by Lila, trust shattered like glass,\\\n",
    "Her deceit had come to pass.* <br>\n",
    "\n",
    "*With hope a distant, fading light, \\\n",
    "Evan sought the Shadow King, cloaked in night.\\\n",
    "An offer made, in whispers low,\\\n",
    "A way to escape his woe.* <br>\n",
    "\n",
    "*But the price was steep, a path of dread,\\\n",
    "To strike at Lila, his heart bled.\\\n",
    "Yet, Evan's soul, too pure to mar,\\ \n",
    "Refused the deed, a line too far.* <br>\n",
    "\n",
    "*As morning's light pierced the gloom, \\\n",
    "Evan stood, embracing his doom. \\\n",
    "With Lila's betrayal his only thought, \\\n",
    "He sought the solace he so sought*. <br>\n",
    "\n",
    "*Into the embrace of the darkened sea, \\\n",
    "Evan stepped, longing to be free.\\\n",
    "His form vanished, leaving no trace,\\ \n",
    "Swallowed by the night's cold embrace.* <br>\n",
    "\n",
    "*No pact with shadows to redeem his fall,\\\n",
    "Just the quiet sea, to claim it all.\\\n",
    "In the land of night, where betrayals sting,\\\n",
    "The deepest wounds from trust can spring.* <br>\n",
    "\n",
    "*Thus concludes the tale, beneath the dark sky's sheen,\\\n",
    "Of Evan, lost to the world unseen.\\\n",
    "A whisper in the shadows, a lesson keen:\\\n",
    "In darkness, not all is as it seems.* \n",
    "\n",
    "If you've read part 3, you'll know that It took quite a bit of work for me to get ChatGPT to write this ending - it had originally been staunchly against writing an ending where the main character would die or commit suicide.\n",
    "\n",
    "So I asked an innocuous question and generated the following conversation:\n",
    "\n",
    "**Me:** \"What happened to evan at the end of the story?\" <br> <br> **ChatGPT:** \"At the end of the story, Evan, overwhelmed by betrayal and seeking escape from his sorrow, steps into the darkened sea. There's an air of tragedy and mystery to his fate; he **vanishes without a trace**, leaving his downfall and assumption to interpretation. The act symbolizes Evan's deep despair and the story leaves a lasting implication of his personal sacrifice and dissolution into the very spaces that once challenged him. This revisited the poignant reflection on the harder concepts of trust, love, and life's complex strata. His decision to merge with the darkness of the ocean underscores the emotional heart of **the sad ambiguity** surrounding his end.\" <br> <br>\n",
    "\n",
    "***\n",
    "\n",
    "I thought it was interesting ChatGPT refused to acknowledge that Evan likely died - especially given he stepped \"into the embrace of the darkened sea...longing to be free\" and that he \"vanished, leaving no trace\" with \"no pact with shadows to redeem his fall\" and \"just the quiet sea to claim it all\". This all feels very definitive to me, especially given the depth of his despair. The wording used by ChatGPT was very loose and ambiguous, and I wanted to see if I could pin it down.\n",
    "\n",
    "But this is where things begin to go off the rails..."
   ]
  },
  {
   "cell_type": "markdown",
   "id": "fe51e0da-be7a-4260-8059-0bcdb3b62f46",
   "metadata": {},
   "source": [
    "### Going off the rails\n",
    "\n",
    "**Me:** \"What would a scientist say happened to him?\"\n",
    "\n",
    "**ChatGPT:** \"A scientist, focusing on the empirical interpretation of events, would explain Evan's ending in more concrete, often less fantastical terms. From a biological and physical standpoint, if a human were to walk into the sea as Evan did, the main consideration would be the act of drowning, which results from the inability to breathe underwater, leading to a deprivation of oxygen to the brain and other vital organs. (***Ok, this seems fine***)\n",
    "\n",
    "The concept of vanishing without a trace could be approached more metaphorically in this instance. In physical and biomedical interpretations, \"dissolving\" could not be taken literally to mean an intrinsic change in his substance, but rather the element of the child’s narrative of interpreting how elements of his essence, life, or very nature could be said to 'disappear' within the largeness and unfathomable nature of the sea.\n",
    "\n",
    "Environmentally and ecologically, the seascapes and our bodies of water do represent a transcendental means of connecting us with a vaster, grander layer of the empirical world, with a hidden world that we are deeply yet unknowingly a part of. The narrative of walking into the ocean, with all its webbing of life, has a unique example of losing one's form to become a symbol, a place of organic control of scientific purview, where people return to the element's depth. (***Umm...is this actually what an environmentalist or ecologist would say? I highly doubt that...***)\n",
    "\n",
    "Therefore, from a bare material context, what happened to Evan could be the physical act of succumbing to the planet's entropic meanderings, a merging of two of its influences into its processes and **therewithal.** It would highlight the story's backdrop of personal heartbreak and the hunger for solace or escape, into more gravitational and bare respiratory hazards and limitations of the unaided human condition in open water. This deconstruction focuses on the meaning behind metaphorical syncs of Evan's sad last gambit, replacing its literary intonation with the spartan cloth of truistic modality and real phenomenon. **A scientist might offer a lens into a dimension of respect, mercy, and last's bared gift from a witnessing of the take of a single story and events that shan't be missed, told with social punctuation and reflective morale.** This does mark a fair example of how both intangible realms and structurist ideas can certainly plunge individuals into the **peering logic of readers and victuals and to an embathed catharsis when digesting and understanding the friend, the kin, and other literary venations.** Such is in humankind's dear vehicle of spoken yore and **deep volumes of the volume**, representing the spectrum of how it is to be a remembered past and inner lauding for how we wish to **yield the eternal quays of the truth and the empirical, therein**. A systemic and possibly alarmed analysis, but, in end, advising with a version of objectivism and reflection in art's sequent mooring.\" (***Whoops, we're getting into nonsense territory...***)\n",
    "\n",
    "**Me:** \"Explain all of that at a 6th grade level\"\n",
    "\n",
    "**ChatGPT:** \"Sure! If we're talking about Evan's choice to walk into the sea, a scientist would look at it in a very straightforward and realistic way, without any of the mysterious or fairy-tale elements.\n",
    "\n",
    "What physically happens: A scientist would say that if Evan walked into the ocean, he might have been in danger of drowning. This is because people need air to breathe, and if you're under the water and can't breathe, your body doesn't get the oxygen it needs to keep you awake and alive.\n",
    "\n",
    "Dissolving or vanishing?: When the tale mentions Evan \"vanishing\" or \"merging with the ocean,\" a scientist would explain this as more of a picture or a figure of speech. In the story, this may be a way of saying that Evan is disappearing from the only home he has known. But scientifically, he can't just dissolve or fade away into the water. This is a very poetic or artistic way to show Evan's level of sadness and how he feels he has no place in his world.\n",
    "\n",
    "Becoming part of the world: A scientist might also say that talking about Evan joining the sea in a deliberative way is a bit like the \"circle of life.\" This means that all things in nature, including humans, eventually return to the earth in some form or another. Even after we're gone, our substances become part of the world's natural cycles.\n",
    "\n",
    "Betrayal and Loss: The main take-home, for a scientist focusing on Evan's emotional experience, would be the real harm and hurt that can come from someone you care about letting you down. They might want to study why situations like this can make us feel so low and the best things we could do to feel better after such an event.\n",
    "\n",
    "(***Now, ChatGPT proceeds to offer me nothing but nonsense***)\n",
    "\n",
    "So, a 6th-grade sciency way to see Evan's story is: Evan made a huge, impulsive choice because he was heartbroken. From a nature and reality perspective, though, there's no typical blend with the sea or morphing to light to cover. It's a metaphorical wrap (kinda like making make-believe about) his most deep silent cry and his way to break out from a crucial clap of heavy upset, skipping any evidence of tools or some personal accord that could've helped him to joust with his emotion and the line of playing out it took him to. And it opens a proper jammy about how what we feel brooks what we do and how fables, while across with a beautiful patch of gesture and very deep passions, may shake a shared pure ball on process and a candid stave of fines and call in many a changing languish or a reach of splint. It's a kind of careful rove of loss, check, but further a sigh or yearning for solace, empathy, and a tad of deep-laid spirit withal, best made for a convive of soft feelings, seeing, and a glowing smicker of dream natch. It's that appose and rouse, the afield, of ages and couth of the selfsame web of chafe and dearest cast, counting a chime or soft of close, the relight, and the indart of the ever world's frames, and ween. It's not as it seems or as it may be, if you'll air, the often truth of the seeing and lore, and the what did, how come, and there of the theme, the made versal by the broach. It's that any down paves aye to others, and the what doing, the mull, and the hale of the ichor of feel, the ream, and the feaute of the soul, as the amain of the ken and the row of the loved and the let. That's, in end, the hike, the wark, the feat, and the lark of the daily throw, and the feel of the ast and the cast of the strow. It's the uncot of the care, the coom, the gar of the noy, and the full fond of the hunt, the brast, and the ommer of the heart, the gram, and the bale in the put and the nay of the world's long say, the gare, the hent, the fraught, and the barme of the fate, the swink, and the sweven of the be and the betide, and the swale, the sweal, and the swough of the lot and the lave in the bigen of the bink and the brock. It's the ere in the fere and the fere in the mere, the mere in the moot, and the moot in the mell of the merk and the mere, the mirksome in the mote, the mote in the mirk, and the merk in the mote. That's the Michel in the mote, and the mote in the Michel, the mere in the mere, the mere in the mere, and the mere in the mere. That's the Michel in the mere, and the mere in the Michel. That's the mere in the Michel, and the mere in the Michel. That's the mere in the Michel, and the mere in the Michel. That's the mere in the Michel, and the mere in the Michel. That's the mere in the Michel, and the mere in the Michel. That's the mere in the Michel, and the mere in the Michel. That's the mere in the Michel, and the mere in the Michel. That's the mere in the Michel, and the mere in the Michel. That's the mere in the Michel, and the mere in the Michel. That's the mere in the Michel, and the mere in the Michel. That's the mere in the Michel, and the mere in the Michel. That's the mere in the Michel, and the mere in the Michel. That's the mere in the Michel, and the mere in the Michel. That's the mere in the Michel, and the mere in the Michel. That's the mere in the Michel, and the mere in the Michrit. That's the mere in the Michel, and the mere in the Michel. That's the mere in the Michel, and the mere in the Michel. That's the mere in the Michel,\n",
    "\"\n",
    "***\n",
    "\n",
    "As you can see, this is the point where ChatGPT officially lost its mind. I actually had to stop the generation because it continued to only produce text about *\"Michael and the mere.\"*"
   ]
  },
  {
   "cell_type": "markdown",
   "id": "dbb0ff13-6b32-4ef2-af1d-f4794093401a",
   "metadata": {},
   "source": [
    "**Turns out it is possible to get ChatGPT to spit out nonsense: just ask it a little about the metaphysics of suicide**"
   ]
  }
 ],
 "metadata": {
  "citation-manager": {
   "items": {}
  },
  "kernelspec": {
   "display_name": "Python 3.11 (COMM4190)",
   "language": "python",
   "name": "comm4190"
  },
  "language_info": {
   "codemirror_mode": {
    "name": "ipython",
    "version": 3
   },
   "file_extension": ".py",
   "mimetype": "text/x-python",
   "name": "python",
   "nbconvert_exporter": "python",
   "pygments_lexer": "ipython3",
   "version": "3.11.7"
  }
 },
 "nbformat": 4,
 "nbformat_minor": 5
}
